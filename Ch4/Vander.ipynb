{
 "metadata": {
  "language_info": {
   "codemirror_mode": {
    "name": "ipython",
    "version": 3
   },
   "file_extension": ".py",
   "mimetype": "text/x-python",
   "name": "python",
   "nbconvert_exporter": "python",
   "pygments_lexer": "ipython3",
   "version": "3.8.5-final"
  },
  "orig_nbformat": 2,
  "kernelspec": {
   "name": "python38264bit00d68ff6be484ba18212e34cf67338d9",
   "display_name": "Python 3.8.2 64-bit"
  }
 },
 "nbformat": 4,
 "nbformat_minor": 2,
 "cells": [
  {
   "cell_type": "code",
   "execution_count": 45,
   "metadata": {},
   "outputs": [],
   "source": [
    "from sympy import symbols, Matrix, Transpose\n",
    "from sympy.solvers.solveset import linsolve\n",
    "\n",
    "# sp.init_printing()\n",
    "a1, a2, a3, a4 = symbols('a1 a2 a3 a4')\n",
    "c1, c2, c3, c4 = symbols('c1 c2 c3 c4')\n",
    "dt = symbols('dt')\n",
    "t1 = symbols('t1')\n",
    "t2 = t1 +   dt\n",
    "t3 = t1 + 2*dt\n",
    "t4 = t1 + 3*dt"
   ]
  },
  {
   "cell_type": "code",
   "execution_count": 46,
   "metadata": {},
   "outputs": [
    {
     "output_type": "execute_result",
     "data": {
      "text/plain": [
       "FiniteSet(((6*c1*dt**3 + 11*c1*dt**2*t1 + 6*c1*dt*t1**2 + c1*t1**3 - 18*c2*dt**2*t1 - 15*c2*dt*t1**2 - 3*c2*t1**3 + 9*c3*dt**2*t1 + 12*c3*dt*t1**2 + 3*c3*t1**3 - 2*c4*dt**2*t1 - 3*c4*dt*t1**2 - c4*t1**3)/(6*dt**3), (-11*c1*dt**2 - 12*c1*dt*t1 - 3*c1*t1**2 + 18*c2*dt**2 + 30*c2*dt*t1 + 9*c2*t1**2 - 9*c3*dt**2 - 24*c3*dt*t1 - 9*c3*t1**2 + 2*c4*dt**2 + 6*c4*dt*t1 + 3*c4*t1**2)/(6*dt**3), (2*c1*dt + c1*t1 - 5*c2*dt - 3*c2*t1 + 4*c3*dt + 3*c3*t1 - c4*dt - c4*t1)/(2*dt**3), (-c1 + 3*c2 - 3*c3 + c4)/(6*dt**3)))"
      ],
      "text/latex": "$\\displaystyle \\left\\{\\left( \\frac{6 c_{1} dt^{3} + 11 c_{1} dt^{2} t_{1} + 6 c_{1} dt t_{1}^{2} + c_{1} t_{1}^{3} - 18 c_{2} dt^{2} t_{1} - 15 c_{2} dt t_{1}^{2} - 3 c_{2} t_{1}^{3} + 9 c_{3} dt^{2} t_{1} + 12 c_{3} dt t_{1}^{2} + 3 c_{3} t_{1}^{3} - 2 c_{4} dt^{2} t_{1} - 3 c_{4} dt t_{1}^{2} - c_{4} t_{1}^{3}}{6 dt^{3}}, \\  \\frac{- 11 c_{1} dt^{2} - 12 c_{1} dt t_{1} - 3 c_{1} t_{1}^{2} + 18 c_{2} dt^{2} + 30 c_{2} dt t_{1} + 9 c_{2} t_{1}^{2} - 9 c_{3} dt^{2} - 24 c_{3} dt t_{1} - 9 c_{3} t_{1}^{2} + 2 c_{4} dt^{2} + 6 c_{4} dt t_{1} + 3 c_{4} t_{1}^{2}}{6 dt^{3}}, \\  \\frac{2 c_{1} dt + c_{1} t_{1} - 5 c_{2} dt - 3 c_{2} t_{1} + 4 c_{3} dt + 3 c_{3} t_{1} - c_{4} dt - c_{4} t_{1}}{2 dt^{3}}, \\  \\frac{- c_{1} + 3 c_{2} - 3 c_{3} + c_{4}}{6 dt^{3}}\\right)\\right\\}$"
     },
     "metadata": {},
     "execution_count": 46
    }
   ],
   "source": [
    "A = Matrix([[1, t1 , t1**2 , t1**3 ],\n",
    "            [1, t2 , t2**2 , t2**3 ],\n",
    "            [1, t3 , t3**2 , t3**3 ],\n",
    "            [1, t4 , t4**2 , t4**3 ] ])\n",
    "\n",
    "b = Matrix( [c1,c2,c3,c4] )\n",
    "\n",
    "system = A, b\n",
    "\n",
    "from sympy import *\n",
    "simplify(linsolve( system , a1, a2, a3, a4))"
   ]
  },
  {
   "cell_type": "code",
   "execution_count": 47,
   "metadata": {},
   "outputs": [],
   "source": [
    "sol, = linsolve( system , a1, a2, a3, a4)"
   ]
  },
  {
   "cell_type": "code",
   "execution_count": 51,
   "metadata": {},
   "outputs": [
    {
     "output_type": "execute_result",
     "data": {
      "text/plain": [
       "-c1 + 4*c2 - 6*c3 + 4*c4"
      ],
      "text/latex": "$\\displaystyle - c_{1} + 4 c_{2} - 6 c_{3} + 4 c_{4}$"
     },
     "metadata": {},
     "execution_count": 51
    }
   ],
   "source": [
    "t = t4 + dt     # Last point\n",
    "\n",
    "simplify( sol[0] + sol[1] * t + sol[2] * t**2 + sol[3] * t**3 )\n",
    "# cxxcode( simplify( sol[0] + sol[1] * t + sol[2] * t**2 + sol[3] * t**3 ), standard='C++11')"
   ]
  },
  {
   "cell_type": "code",
   "execution_count": 13,
   "metadata": {},
   "outputs": [
    {
     "output_type": "execute_result",
     "data": {
      "text/plain": [
       "-c1 + 2*c2"
      ],
      "text/latex": "$\\displaystyle - c_{1} + 2 c_{2}$"
     },
     "metadata": {},
     "execution_count": 13
    }
   ],
   "source": [
    "\n",
    "system = A[:-1,:-1], b[:-1,:]\n",
    "\n",
    "sol, = linsolve( system , a1, a2)\n",
    "\n",
    "t = 2*dt\n",
    "sol[0] + sol[1] * t "
   ]
  },
  {
   "cell_type": "code",
   "execution_count": 17,
   "metadata": {},
   "outputs": [
    {
     "output_type": "stream",
     "name": "stdout",
     "text": [
      "\\left( c_{1}, \\  \\frac{- c_{1} + c_{2}}{dt}\\right)\n"
     ]
    }
   ],
   "source": [
    "from sympy import latex\n",
    "print( latex(sol) ) \n"
   ]
  },
  {
   "cell_type": "code",
   "execution_count": 20,
   "metadata": {},
   "outputs": [
    {
     "output_type": "execute_result",
     "data": {
      "text/plain": [
       "(c1, (-c1 + c2)/dt)"
      ],
      "text/latex": "$\\displaystyle \\left( c_{1}, \\  \\frac{- c_{1} + c_{2}}{dt}\\right)$"
     },
     "metadata": {},
     "execution_count": 20
    }
   ],
   "source": [
    "sol"
   ]
  },
  {
   "cell_type": "code",
   "execution_count": 28,
   "metadata": {},
   "outputs": [
    {
     "output_type": "execute_result",
     "data": {
      "text/plain": [
       "2*dt + t1"
      ],
      "text/latex": "$\\displaystyle 2 dt + t_{1}$"
     },
     "metadata": {},
     "execution_count": 28
    }
   ],
   "source": [
    "t3"
   ]
  },
  {
   "cell_type": "code",
   "execution_count": 34,
   "metadata": {},
   "outputs": [
    {
     "output_type": "execute_result",
     "data": {
      "text/plain": [
       "3*dt + t1"
      ],
      "text/latex": "$\\displaystyle 3 dt + t_{1}$"
     },
     "metadata": {},
     "execution_count": 34
    }
   ],
   "source": []
  },
  {
   "cell_type": "code",
   "execution_count": 43,
   "metadata": {},
   "outputs": [
    {
     "output_type": "execute_result",
     "data": {
      "text/plain": [
       "$\\Delta$"
      ],
      "text/latex": "$\\displaystyle $\\Delta$$"
     },
     "metadata": {},
     "execution_count": 43
    }
   ],
   "source": []
  },
  {
   "cell_type": "code",
   "execution_count": null,
   "metadata": {},
   "outputs": [],
   "source": []
  }
 ]
}